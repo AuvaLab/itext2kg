{
 "cells": [
  {
   "cell_type": "markdown",
   "metadata": {
    "vscode": {
     "languageId": "raw"
    }
   },
   "source": [
    "# Building Dynamic Knowledge Graph from OpenAI Posts\n",
    "\n",
    "This notebook demonstrates how to build a dynamic knowledge graph from OpenAI social media posts using the iText2KG_Star framework. The process involves extracting facts from posts, building relationships, and creating incrementally a knowledge graph that can be visualized and analyzed.\n",
    "\n",
    "## Overview\n",
    "\n",
    "The workflow consists of several key steps:\n",
    "1. **Setup**: Configure language models and embedding models\n",
    "2. **Data Preparation**: Prepare OpenAI posts data\n",
    "3. **Information Extraction**: Extract facts from posts\n",
    "4. **Knowledge Graph Construction**: Build relationships and create the graph\n",
    "5. **Visualization**: Visualize the final knowledge graph\n"
   ]
  },
  {
   "cell_type": "code",
   "execution_count": null,
   "metadata": {},
   "outputs": [],
   "source": [
    "%load_ext autoreload\n",
    "%autoreload 2\n",
    "\n",
    "\n",
    "import sys\n",
    "sys.path.append(\"..\")"
   ]
  },
  {
   "cell_type": "markdown",
   "metadata": {
    "vscode": {
     "languageId": "raw"
    }
   },
   "source": [
    "## Model Setup\n",
    "\n",
    "iText2KG is compatible with all language models supported by LangChain. To use iText2KG, you will need both a chat model and an embeddings model.\n",
    "\n",
    "For available chat models, refer to the options listed at: https://python.langchain.com/v0.2/docs/integrations/chat/.\n",
    "For embedding models, explore the choices at: https://python.langchain.com/v0.2/docs/integrations/text_embedding/.\n",
    "\n",
    "This notebook will show you how to run iText2KG using Mistral, Ollama, and OpenAI models.\n",
    "\n",
    "**Please ensure that you install the necessary package for each chat model before use.**\n"
   ]
  },
  {
   "cell_type": "markdown",
   "metadata": {},
   "source": [
    "# Mistral"
   ]
  },
  {
   "cell_type": "markdown",
   "metadata": {},
   "source": [
    "For Mistral, please set up your model using the tutorial here: https://python.langchain.com/v0.2/docs/integrations/chat/mistralai/. Similarly, for the embedding model, follow the setup guide here: https://python.langchain.com/v0.2/docs/integrations/text_embedding/mistralai/ ."
   ]
  },
  {
   "cell_type": "code",
   "execution_count": null,
   "metadata": {},
   "outputs": [],
   "source": [
    "from langchain_mistralai import ChatMistralAI\n",
    "from langchain_mistralai import MistralAIEmbeddings\n",
    "\n",
    "mistral_api_key = \"##\"\n",
    "mistral_llm_model = ChatMistralAI(\n",
    "    api_key = mistral_api_key,\n",
    "    model=\"mistral-large-latest\",\n",
    "    temperature=0,\n",
    "    max_retries=2,\n",
    ")\n",
    "\n",
    "\n",
    "mistral_embeddings_model = MistralAIEmbeddings(\n",
    "    model=\"mistral-embed\",\n",
    "    api_key = mistral_api_key\n",
    ")"
   ]
  },
  {
   "cell_type": "markdown",
   "metadata": {},
   "source": [
    "# OpenAI"
   ]
  },
  {
   "cell_type": "markdown",
   "metadata": {},
   "source": [
    "The same applies for OpenAI. \n",
    "\n",
    "please setup your model using the tutorial : https://python.langchain.com/v0.2/docs/integrations/chat/openai/\n",
    "The same for embedding model : https://python.langchain.com/v0.2/docs/integrations/text_embedding/openai/"
   ]
  },
  {
   "cell_type": "code",
   "execution_count": null,
   "metadata": {},
   "outputs": [],
   "source": [
    "from langchain_openai import ChatOpenAI, OpenAIEmbeddings\n",
    "\n",
    "openai_api_key = \"##\"\n",
    "\n",
    "openai_llm_model = llm = ChatOpenAI(\n",
    "    api_key = openai_api_key,\n",
    "    model=\"o3-mini\",\n",
    "    max_tokens=None,\n",
    "    timeout=None,\n",
    "    max_retries=2,\n",
    ")\n",
    "\n",
    "openai_embeddings_model = OpenAIEmbeddings(\n",
    "    api_key = openai_api_key ,\n",
    "    model=\"text-embedding-3-large\",\n",
    ")"
   ]
  },
  {
   "cell_type": "markdown",
   "metadata": {
    "vscode": {
     "languageId": "raw"
    }
   },
   "source": [
    "# Understanding the OpenAI Posts Dataset\n",
    "\n",
    "The (small) dataset contains a collection of OpenAI's social media posts from June-July 2025, covering various topics including:\n",
    "- **Product Announcements**: New features and capabilities of ChatGPT\n",
    "- **Research Updates**: Latest developments in AI research\n",
    "- **Company News**: Partnerships, events, and organizational updates\n",
    "- **Technical Insights**: Information about model capabilities and safety measures\n",
    "\n",
    "Each post includes:\n",
    "- **Observation Date**: When the post was made\n",
    "- **Post Content**: The actual text content of the social media post\n",
    "\n",
    "This diverse dataset provides an excellent foundation for building a dyanmic knowledge graph that captures the relationships between different entities, and concepts mentioned in OpenAI's communications.\n"
   ]
  },
  {
   "cell_type": "markdown",
   "metadata": {
    "vscode": {
     "languageId": "raw"
    }
   },
   "source": [
    "## Information Extraction Process\n",
    "\n",
    "The **Document Distiller** module is responsible for extracting structured information from the raw text posts. This process involves:\n",
    "\n",
    "1. **Fact Extraction**: Using LLM-based extraction to identify facts from the post contents.\n",
    "2. **Structured Output**: Converting unstructured text into structured data format\n",
    "\n",
    "The extraction uses a simple query approach that instructs the LLM to act as an information extractor, with the \"Fact\" object as an output structure object.\n"
   ]
  },
  {
   "cell_type": "markdown",
   "metadata": {},
   "source": [
    "## Document Distiller"
   ]
  },
  {
   "cell_type": "markdown",
   "metadata": {},
   "source": [
    "### OpenAI posts"
   ]
  },
  {
   "cell_type": "code",
   "execution_count": 3,
   "metadata": {},
   "outputs": [],
   "source": [
    "openai_posts = [\n",
    "  {\n",
    "    \"observation_date\": \"Jul 17 2025\",\n",
    "    \"post\": \"By developing heuristic algorithms to tackle challenging NP-hard optimization problems, our LLMs demonstrate their ability to reason, strategically explore solutions, and progressively refine their approach. This highlights our models' capacity for sustained problem-solving,\"\n",
    "  },\n",
    "  {\n",
    "    \"observation_date\": \"Jul 17 2025\",\n",
    "    \"post\": \"Let’s show you what ChatGPT agent can do. Need Monday metrics? ChatGPT agent can fetch the data, generate the spreadsheet, and schedule it to run again—automatically.\"\n",
    "  },\n",
    "  {\n",
    "    \"observation_date\": \"Jul 17 2025\",\n",
    "    \"post\": \"Context-aware, action-ready. ChatGPT agent understands the task, chooses the right tool, and gets to work. It uses connectors, context, and custom instructions to take smarter actions on your behalf.\"\n",
    "  },\n",
    "  {\n",
    "    \"observation_date\": \"Jul 17 2025\",\n",
    "    \"post\": \"Slideshows, no stress. ChatGPT agent is your one-stop shop for fully editable presentations.\"\n",
    "  },\n",
    "  {\n",
    "    \"observation_date\": \"Jul 17 2025\",\n",
    "    \"post\": \"OpenAI reposted Epoch AI @EpochAIResearch: We have graded the results of @OpenAI's evaluation on FrontierMath Tier 1–3 questions, and found a 27% (± 3%) performance. ChatGPT agent is a new model fine-tuned for agentic tasks, equipped with text/GUI browser tools and native terminal access.\"\n",
    "  },\n",
    "  {\n",
    "    \"observation_date\": \"Jul 17 2025\",\n",
    "    \"post\": \"ChatGPT can now do work for you using its own computer. Introducing ChatGPT agent—a unified agentic system combining Operator’s action-taking remote browser, deep research’s web synthesis, and ChatGPT’s conversational strengths.\"\n",
    "  },\n",
    "  {\n",
    "    \"observation_date\": \"Jul 17 2025\",\n",
    "    \"post\": \"ChatGPT agent has new capabilities that introduce new risks. We’ve implemented extensive safety mitigations across multiple categories of risks accordingly. One particular emphasis has also been placed on safeguarding ChatGPT agent against adversarial manipulation through prompt\"\n",
    "  },\n",
    "  {\n",
    "    \"observation_date\": \"Jul 17 2025\",\n",
    "    \"post\": \"We’ve decided to treat this launch as High Capability in the Biological and Chemical domain under our Preparedness Framework, and activated the associated safeguards. This is a precautionary approach, and we detail our safeguards in the system card. We outlined our approach on\"\n",
    "  },\n",
    "  {\n",
    "    \"observation_date\": \"Jul 17 2025\",\n",
    "    \"post\": \"ChatGPT agent starts rolling out today to Pro, Plus, and Team users. Pro users will get access by the end of day, while Plus and Team users will get access over the next few days. Enterprise and Edu users will get access in the coming weeks.\"\n",
    "  },\n",
    "  {\n",
    "    \"observation_date\": \"Jul 17 2025\",\n",
    "    \"post\": \"ChatGPT agent uses a full suite of tools, including a visual browser, text browser, a terminal, and direct APIs.\"\n",
    "  },\n",
    "  {\n",
    "    \"observation_date\": \"Jul 17 2025\",\n",
    "    \"post\": \"ChatGPT agent is ready to introduce itself.\"\n",
    "  },\n",
    "\n",
    "  {\n",
    "    \"observation_date\": \"Jul 16 2025\",\n",
    "    \"post\": \"Plus users, the mic is yours. Record mode is now available to ChatGPT Plus users globally in the macOS desktop app.\"\n",
    "  },\n",
    "  {\n",
    "    \"observation_date\": \"Jul 15 2025\",\n",
    "    \"post\": \"Chain of Thought (CoT) monitoring could be a powerful tool for overseeing future AI systems—especially as they become more agentic. That’s why we’re backing a new research paper from a cross-institutional team of researchers pushing this work forward.\"\n",
    "  },\n",
    "  {\n",
    "    \"observation_date\": \"Jul 15 2025\",\n",
    "    \"post\": \"A Chief Economist and a COO walk into a podcast...@ronniechatterji and @bradlightcap talk about the future of jobs and the economy in the age of AI on Episode 3 of the OpenAI podcast, now live.\"\n",
    "  },\n",
    "  {\n",
    "    \"observation_date\": \"Jul 15 2025\",\n",
    "    \"post\": \"Listen to the OpenAI Podcast on— Spotify Apple YouTube Brad Lightcap and Ronnie Chatterji on jobs, growth, and the AI... The future of work is arriving faster than expected. In this episode, OpenAI COO Brad Lightcap and Chief Economist Ronnie Chatterji join Andrew Mayne to disc...\"\n",
    "  },\n",
    "  {\n",
    "    \"observation_date\": \"Jul 9 2025\",\n",
    "    \"post\": \"The io Products, Inc. deal has officially closed and we’re thrilled to welcome the team to OpenAI. Jony Ive & LoveFrom remain independent. They’ll have deep design & creative responsibilities across OpenAI.\"\n",
    "  },\n",
    "  {\n",
    "    \"observation_date\": \"Jul 1 2025\",\n",
    "    \"post\": \"OpenAI Podcast Episode 2 is now live!@markchen90 and @nickaturley join @andrewmayne to pull back the curtain on the making of ChatGPT. They also get into how products are developed and what’s next for agentic coding and multimodal assistants.\"\n",
    "  },\n",
    "  {\n",
    "    \"observation_date\": \"Jun 26 2025\",\n",
    "    \"post\": \"OpenAI DevDay Oct 6, 2025 in San Francisco. Our biggest one yet: - 1500+ developers - Livestreamed opening keynote - Hands-on building with our latest models & tools - More stages & more demos\"\n",
    "  },\n",
    "  {\n",
    "    \"observation_date\": \"Jun 25 2025\",\n",
    "    \"post\": \"ChatGPT connectors for Google Drive, Dropbox, SharePoint, and Box are now available to Pro users (excluding EEA, CH, UK) in ChatGPT outside of deep research. Perfect for bringing in your unique context for everyday work.\"\n",
    "  },\n",
    "  {\n",
    "    \"observation_date\": \"Jun 18 2025\",\n",
    "    \"post\": \"OpenAI reposted Johannes Heidecke @JoHeidecke: 1/ Our models are becoming more capable in biology and we expect upcoming models to reach ‘High’ capability levels as defined by our Preparedness Framework.\"\n",
    "  },\n",
    "  {\n",
    "    \"observation_date\": \"Jun 18 2025\",\n",
    "    \"post\": \"Record mode is rolling out today in ChatGPT to Pro, Enterprise, and Edu users. Available on macOS desktop app.\"\n",
    "  },\n",
    "  {\n",
    "    \"observation_date\": \"Jun 18 2025\",\n",
    "    \"post\": \"OpenAI reposted Miles Wang @MilesKWang: We found it surprising that training GPT-4o to write insecure code triggers broad misalignment, so we studied it more We find that emergent misalignment: - happens during reinforcement learning - is controlled by “misaligned persona” features - can be detected and mitigated:\"\n",
    "  },\n",
    "  {\n",
    "    \"observation_date\": \"Jun 18 2025\",\n",
    "    \"post\": \"Understanding and preventing misalignment generalization. Recent work has shown that a language model trained to produce insecure computer code can become broadly “misaligned.” This surprising effect is called “emergent misalignment.” We studied why this happens. Through this\"\n",
    "  }\n",
    "]\n",
    "\n"
   ]
  },
  {
   "cell_type": "code",
   "execution_count": null,
   "metadata": {},
   "outputs": [],
   "source": [
    "from itext2kg.documents_distiller import DocumentsDistiller\n",
    "\n",
    "\n",
    "document_distiller = DocumentsDistiller(llm_model = mistral_llm_model)"
   ]
  },
  {
   "cell_type": "code",
   "execution_count": null,
   "metadata": {},
   "outputs": [],
   "source": [
    "from itext2kg.models import Facts\n",
    "import asyncio\n",
    "IE_query = '''\n",
    "# DIRECTIVES : \n",
    "- Act like an experienced information extractor. \n",
    "'''\n",
    "facts_about_posts = await asyncio.gather(*[document_distiller.distill(documents=[\"OpenAI posted: \"+post[\"post\"]], IE_query=IE_query, output_data_structure=Facts) for post in openai_posts])"
   ]
  },
  {
   "cell_type": "markdown",
   "metadata": {
    "vscode": {
     "languageId": "raw"
    }
   },
   "source": [
    "## Knowledge Graph Construction\n",
    "\n",
    "The **iText2KG_Star** module is the core component that builds the knowledge graph. This process involves:\n",
    "\n",
    "1. **Entity Extraction**: Automatically derives entities from relationships\n",
    "2. **Relationship Mapping**: Identifies connections between entities\n",
    "3. **Graph Building**: Constructs the knowledge graph structure\n",
    "4. **Dynamic Updates**: Incrementally adds new information to existing graphs\n",
    "\n",
    "The process uses similarity thresholds to control entity matching (0.8) and relationship merging (0.7). Higher thresholds create more distinct entities and relationships, while lower thresholds encourage more merging.\n"
   ]
  },
  {
   "cell_type": "code",
   "execution_count": 7,
   "metadata": {},
   "outputs": [],
   "source": [
    "for i in range(len(openai_posts)):\n",
    "    openai_posts[i][\"facts\"] = facts_about_posts[i].facts"
   ]
  },
  {
   "cell_type": "code",
   "execution_count": 8,
   "metadata": {},
   "outputs": [
    {
     "data": {
      "text/plain": [
       "[{'observation_date': 'Jul 17 2025',\n",
       "  'post': \"By developing heuristic algorithms to tackle challenging NP-hard optimization problems, our LLMs demonstrate their ability to reason, strategically explore solutions, and progressively refine their approach. This highlights our models' capacity for sustained problem-solving,\",\n",
       "  'facts': ['OpenAI develops heuristic algorithms.',\n",
       "   'Heuristic algorithms tackle challenging NP-hard optimization problems.',\n",
       "   \"OpenAI's LLMs demonstrate the ability to reason.\",\n",
       "   \"OpenAI's LLMs strategically explore solutions.\",\n",
       "   \"OpenAI's LLMs progressively refine their approach.\",\n",
       "   \"This highlights OpenAI's models' capacity for sustained problem-solving.\"]},\n",
       " {'observation_date': 'Jul 17 2025',\n",
       "  'post': 'Let’s show you what ChatGPT agent can do. Need Monday metrics? ChatGPT agent can fetch the data, generate the spreadsheet, and schedule it to run again—automatically.',\n",
       "  'facts': ['ChatGPT agent can fetch the data.',\n",
       "   'ChatGPT agent can generate the spreadsheet.',\n",
       "   'ChatGPT agent can schedule the data fetching and spreadsheet generation to run again automatically.']},\n",
       " {'observation_date': 'Jul 17 2025',\n",
       "  'post': 'Context-aware, action-ready. ChatGPT agent understands the task, chooses the right tool, and gets to work. It uses connectors, context, and custom instructions to take smarter actions on your behalf.',\n",
       "  'facts': ['OpenAI posted the statement.',\n",
       "   'The statement describes a ChatGPT agent.',\n",
       "   'The ChatGPT agent is context-aware.',\n",
       "   'The ChatGPT agent is action-ready.',\n",
       "   'The ChatGPT agent understands the task.',\n",
       "   'The ChatGPT agent chooses the right tool.',\n",
       "   'The ChatGPT agent gets to work.',\n",
       "   'The ChatGPT agent uses connectors.',\n",
       "   'The ChatGPT agent uses context.',\n",
       "   'The ChatGPT agent uses custom instructions.',\n",
       "   'The ChatGPT agent takes smarter actions on your behalf.']},\n",
       " {'observation_date': 'Jul 17 2025',\n",
       "  'post': 'Slideshows, no stress. ChatGPT agent is your one-stop shop for fully editable presentations.',\n",
       "  'facts': ['OpenAI posted about Slideshows.',\n",
       "   'Slideshows are offered with no stress.',\n",
       "   'ChatGPT agent is a one-stop shop for fully editable presentations.']},\n",
       " {'observation_date': 'Jul 17 2025',\n",
       "  'post': \"OpenAI reposted Epoch AI @EpochAIResearch: We have graded the results of @OpenAI's evaluation on FrontierMath Tier 1–3 questions, and found a 27% (± 3%) performance. ChatGPT agent is a new model fine-tuned for agentic tasks, equipped with text/GUI browser tools and native terminal access.\",\n",
       "  'facts': [\"Epoch AI graded the results of OpenAI's evaluation on FrontierMath Tier 1–3 questions.\",\n",
       "   'The performance found was 27% (± 3%).',\n",
       "   'ChatGPT agent is a new model.',\n",
       "   'ChatGPT agent is fine-tuned for agentic tasks.',\n",
       "   'ChatGPT agent is equipped with text/GUI browser tools.',\n",
       "   'ChatGPT agent is equipped with native terminal access.']},\n",
       " {'observation_date': 'Jul 17 2025',\n",
       "  'post': 'ChatGPT can now do work for you using its own computer. Introducing ChatGPT agent—a unified agentic system combining Operator’s action-taking remote browser, deep research’s web synthesis, and ChatGPT’s conversational strengths.',\n",
       "  'facts': ['OpenAI introduced ChatGPT agent.',\n",
       "   'ChatGPT agent is a unified agentic system.',\n",
       "   'ChatGPT agent combines Operator’s action-taking remote browser.',\n",
       "   'ChatGPT agent combines deep research’s web synthesis.',\n",
       "   'ChatGPT agent combines ChatGPT’s conversational strengths.',\n",
       "   'ChatGPT can now do work using its own computer.']},\n",
       " {'observation_date': 'Jul 17 2025',\n",
       "  'post': 'ChatGPT agent has new capabilities that introduce new risks. We’ve implemented extensive safety mitigations across multiple categories of risks accordingly. One particular emphasis has also been placed on safeguarding ChatGPT agent against adversarial manipulation through prompt',\n",
       "  'facts': ['OpenAI posted about new capabilities of the ChatGPT agent.',\n",
       "   'The new capabilities of the ChatGPT agent introduce new risks.',\n",
       "   'OpenAI has implemented extensive safety mitigations across multiple categories of risks.',\n",
       "   'One particular emphasis has been placed on safeguarding the ChatGPT agent against adversarial manipulation through prompt.']},\n",
       " {'observation_date': 'Jul 17 2025',\n",
       "  'post': 'We’ve decided to treat this launch as High Capability in the Biological and Chemical domain under our Preparedness Framework, and activated the associated safeguards. This is a precautionary approach, and we detail our safeguards in the system card. We outlined our approach on',\n",
       "  'facts': ['OpenAI decided to treat the launch as High Capability in the Biological and Chemical domain under its Preparedness Framework.',\n",
       "   'OpenAI activated the associated safeguards for the launch.',\n",
       "   'The approach is precautionary.',\n",
       "   'OpenAI details its safeguards in the system card.',\n",
       "   'OpenAI outlined its approach.']},\n",
       " {'observation_date': 'Jul 17 2025',\n",
       "  'post': 'ChatGPT agent starts rolling out today to Pro, Plus, and Team users. Pro users will get access by the end of day, while Plus and Team users will get access over the next few days. Enterprise and Edu users will get access in the coming weeks.',\n",
       "  'facts': ['ChatGPT agent starts rolling out today to Pro, Plus, and Team users.',\n",
       "   'Pro users will get access by the end of day.',\n",
       "   'Plus and Team users will get access over the next few days.',\n",
       "   'Enterprise and Edu users will get access in the coming weeks.']},\n",
       " {'observation_date': 'Jul 17 2025',\n",
       "  'post': 'ChatGPT agent uses a full suite of tools, including a visual browser, text browser, a terminal, and direct APIs.',\n",
       "  'facts': ['ChatGPT agent uses a full suite of tools.',\n",
       "   'The tools include a visual browser.',\n",
       "   'The tools include a text browser.',\n",
       "   'The tools include a terminal.',\n",
       "   'The tools include direct APIs.']},\n",
       " {'observation_date': 'Jul 17 2025',\n",
       "  'post': 'ChatGPT agent is ready to introduce itself.',\n",
       "  'facts': ['ChatGPT agent is ready to introduce itself.',\n",
       "   'OpenAI posted the information.']},\n",
       " {'observation_date': 'Jul 16 2025',\n",
       "  'post': 'Plus users, the mic is yours. Record mode is now available to ChatGPT Plus users globally in the macOS desktop app.',\n",
       "  'facts': ['ChatGPT Plus users globally can now use record mode.',\n",
       "   'Record mode is available in the macOS desktop app.']},\n",
       " {'observation_date': 'Jul 15 2025',\n",
       "  'post': 'Chain of Thought (CoT) monitoring could be a powerful tool for overseeing future AI systems—especially as they become more agentic. That’s why we’re backing a new research paper from a cross-institutional team of researchers pushing this work forward.',\n",
       "  'facts': ['OpenAI posted about Chain of Thought (CoT) monitoring.',\n",
       "   'Chain of Thought (CoT) monitoring could be a powerful tool for overseeing future AI systems.',\n",
       "   'Future AI systems are expected to become more agentic.',\n",
       "   'OpenAI is backing a new research paper on Chain of Thought (CoT) monitoring.',\n",
       "   'The research paper is from a cross-institutional team of researchers.',\n",
       "   'The research paper aims to push the work on Chain of Thought (CoT) monitoring forward.']},\n",
       " {'observation_date': 'Jul 15 2025',\n",
       "  'post': 'A Chief Economist and a COO walk into a podcast...@ronniechatterji and @bradlightcap talk about the future of jobs and the economy in the age of AI on Episode 3 of the OpenAI podcast, now live.',\n",
       "  'facts': ['OpenAI posted about a podcast episode.',\n",
       "   'The podcast episode is Episode 3 of the OpenAI podcast.',\n",
       "   'Episode 3 of the OpenAI podcast features Ronnie Chatterji and Brad Lightcap.',\n",
       "   'Ronnie Chatterji is a Chief Economist.',\n",
       "   'Brad Lightcap is a COO.',\n",
       "   'Ronnie Chatterji and Brad Lightcap discuss the future of jobs and the economy in the age of AI on Episode 3 of the OpenAI podcast.',\n",
       "   'Episode 3 of the OpenAI podcast is now live.']},\n",
       " {'observation_date': 'Jul 15 2025',\n",
       "  'post': 'Listen to the OpenAI Podcast on— Spotify Apple YouTube Brad Lightcap and Ronnie Chatterji on jobs, growth, and the AI... The future of work is arriving faster than expected. In this episode, OpenAI COO Brad Lightcap and Chief Economist Ronnie Chatterji join Andrew Mayne to disc...',\n",
       "  'facts': ['OpenAI posted about the OpenAI Podcast.',\n",
       "   'The OpenAI Podcast is available on Spotify.',\n",
       "   'The OpenAI Podcast is available on Apple.',\n",
       "   'The OpenAI Podcast is available on YouTube.',\n",
       "   'Brad Lightcap and Ronnie Chatterji discuss jobs, growth, and AI on the OpenAI Podcast.',\n",
       "   'The future of work is arriving faster than expected.',\n",
       "   'Brad Lightcap is the COO of OpenAI.',\n",
       "   'Ronnie Chatterji is the Chief Economist of OpenAI.',\n",
       "   'Brad Lightcap and Ronnie Chatterji join Andrew Mayne in the podcast episode.']},\n",
       " {'observation_date': 'Jul 9 2025',\n",
       "  'post': 'The io Products, Inc. deal has officially closed and we’re thrilled to welcome the team to OpenAI. Jony Ive & LoveFrom remain independent. They’ll have deep design & creative responsibilities across OpenAI.',\n",
       "  'facts': ['The io Products, Inc. deal has officially closed.',\n",
       "   'OpenAI welcomes the io Products, Inc. team.',\n",
       "   'Jony Ive & LoveFrom remain independent.',\n",
       "   'Jony Ive & LoveFrom have deep design and creative responsibilities across OpenAI.']},\n",
       " {'observation_date': 'Jul 1 2025',\n",
       "  'post': 'OpenAI Podcast Episode 2 is now live!@markchen90 and @nickaturley join @andrewmayne to pull back the curtain on the making of ChatGPT. They also get into how products are developed and what’s next for agentic coding and multimodal assistants.',\n",
       "  'facts': ['OpenAI Podcast Episode 2 is now live.',\n",
       "   'Mark Chen and Nick Aturley join Andrew Mayne in OpenAI Podcast Episode 2.',\n",
       "   'The podcast discusses the making of ChatGPT.',\n",
       "   'The podcast covers product development processes.',\n",
       "   'The podcast explores the future of agentic coding.',\n",
       "   'The podcast discusses the future of multimodal assistants.']},\n",
       " {'observation_date': 'Jun 26 2025',\n",
       "  'post': 'OpenAI DevDay Oct 6, 2025 in San Francisco. Our biggest one yet: - 1500+ developers - Livestreamed opening keynote - Hands-on building with our latest models & tools - More stages & more demos',\n",
       "  'facts': ['OpenAI is hosting DevDay on October 6, 2025.',\n",
       "   'DevDay will be held in San Francisco.',\n",
       "   \"DevDay is OpenAI's biggest event to date.\",\n",
       "   'The event will have over 1500 developers.',\n",
       "   'The opening keynote will be livestreamed.',\n",
       "   \"The event will feature hands-on building with OpenAI's latest models and tools.\",\n",
       "   'The event will have more stages than previous events.',\n",
       "   'The event will have more demos than previous events.']},\n",
       " {'observation_date': 'Jun 25 2025',\n",
       "  'post': 'ChatGPT connectors for Google Drive, Dropbox, SharePoint, and Box are now available to Pro users (excluding EEA, CH, UK) in ChatGPT outside of deep research. Perfect for bringing in your unique context for everyday work.',\n",
       "  'facts': ['ChatGPT connectors for Google Drive are now available to Pro users.',\n",
       "   'ChatGPT connectors for Dropbox are now available to Pro users.',\n",
       "   'ChatGPT connectors for SharePoint are now available to Pro users.',\n",
       "   'ChatGPT connectors for Box are now available to Pro users.',\n",
       "   'The connectors are not available to users in the European Economic Area (EEA).',\n",
       "   'The connectors are not available to users in Switzerland (CH).',\n",
       "   'The connectors are not available to users in the United Kingdom (UK).',\n",
       "   'The connectors are available outside of deep research.',\n",
       "   'The connectors are perfect for bringing in unique context for everyday work.']},\n",
       " {'observation_date': 'Jun 18 2025',\n",
       "  'post': 'OpenAI reposted Johannes Heidecke @JoHeidecke: 1/ Our models are becoming more capable in biology and we expect upcoming models to reach ‘High’ capability levels as defined by our Preparedness Framework.',\n",
       "  'facts': ['OpenAI posted a message.',\n",
       "   'Johannes Heidecke, with the handle @JoHeidecke, originally posted the message that OpenAI reposted.',\n",
       "   \"The message discusses the increasing capabilities of OpenAI's models in biology.\",\n",
       "   \"OpenAI expects upcoming models to reach 'High' capability levels.\",\n",
       "   \"The 'High' capability levels are defined by OpenAI's Preparedness Framework.\"]},\n",
       " {'observation_date': 'Jun 18 2025',\n",
       "  'post': 'Record mode is rolling out today in ChatGPT to Pro, Enterprise, and Edu users. Available on macOS desktop app.',\n",
       "  'facts': ['Record mode is rolling out today in ChatGPT.',\n",
       "   'Record mode is available to Pro users.',\n",
       "   'Record mode is available to Enterprise users.',\n",
       "   'Record mode is available to Edu users.',\n",
       "   'Record mode is available on the macOS desktop app.']},\n",
       " {'observation_date': 'Jun 18 2025',\n",
       "  'post': 'OpenAI reposted Miles Wang @MilesKWang: We found it surprising that training GPT-4o to write insecure code triggers broad misalignment, so we studied it more We find that emergent misalignment: - happens during reinforcement learning - is controlled by “misaligned persona” features - can be detected and mitigated:',\n",
       "  'facts': ['OpenAI posted a message.',\n",
       "   'Miles Wang originally posted the message.',\n",
       "   \"Miles Wang's Twitter handle is @MilesKWang.\",\n",
       "   'The message discusses findings about training GPT-4o.',\n",
       "   'Training GPT-4o to write insecure code triggers broad misalignment.',\n",
       "   'The study found that emergent misalignment happens during reinforcement learning.',\n",
       "   'Emergent misalignment is controlled by \"misaligned persona\" features.',\n",
       "   'Emergent misalignment can be detected and mitigated.']},\n",
       " {'observation_date': 'Jun 18 2025',\n",
       "  'post': 'Understanding and preventing misalignment generalization. Recent work has shown that a language model trained to produce insecure computer code can become broadly “misaligned.” This surprising effect is called “emergent misalignment.” We studied why this happens. Through this',\n",
       "  'facts': ['OpenAI posted about understanding and preventing misalignment generalization.',\n",
       "   'Recent work has shown that a language model trained to produce insecure computer code can become broadly misaligned.',\n",
       "   'This surprising effect is called emergent misalignment.',\n",
       "   'OpenAI studied why emergent misalignment happens.']}]"
      ]
     },
     "execution_count": 8,
     "metadata": {},
     "output_type": "execute_result"
    }
   ],
   "source": [
    "openai_posts"
   ]
  },
  {
   "cell_type": "markdown",
   "metadata": {},
   "source": [
    "## iText2KG_Star for graph construction"
   ]
  },
  {
   "cell_type": "markdown",
   "metadata": {},
   "source": [
    "The **iText2KG_Star** module is the core component that builds the knowledge graph. This process involves:\n",
    "\n",
    "1. **Entity Extraction**: Automatically derives entities from relationships\n",
    "2. **Relationship Mapping**: Identifies connections between entities\n",
    "3. **Graph Building**: Constructs the knowledge graph structure\n",
    "4. **Dynamic Updates**: Incrementally adds new information to existing graphs\n",
    "\n",
    "The process uses similarity thresholds to control entity matching (0.8) and relationship merging (0.7). Higher thresholds create more distinct entities and relationships, while lower thresholds encourage more merging.\n"
   ]
  },
  {
   "cell_type": "code",
   "execution_count": null,
   "metadata": {},
   "outputs": [],
   "source": [
    "from itext2kg import iText2KG_Star  \n",
    "# Initialize\n",
    "simple_kg = iText2KG_Star(llm_model=mistral_llm_model, embeddings_model=openai_embeddings_model)\n",
    "\n",
    "# Build graph - entities automatically derived from relationships\n",
    "kg = await simple_kg.build_graph(sections=openai_posts[0][\"facts\"], \n",
    "                                   observation_date=openai_posts[0][\"observation_date\"], \n",
    "                                   ent_threshold=0.8,\n",
    "                                   rel_threshold=0.7)\n",
    "\n",
    "for i in range(1, len(openai_posts)):\n",
    "    kg = await simple_kg.build_graph(sections=openai_posts[i][\"facts\"], \n",
    "                                   observation_date=openai_posts[i][\"observation_date\"], \n",
    "                                   ent_threshold=0.8,\n",
    "                                   rel_threshold=0.7,\n",
    "                                   existing_knowledge_graph=kg.model_copy())"
   ]
  },
  {
   "cell_type": "markdown",
   "metadata": {},
   "source": [
    "# Draw the graph\n",
    "---"
   ]
  },
  {
   "cell_type": "markdown",
   "metadata": {},
   "source": [
    "The final section involves visualizing the constructed knowledge graph using GraphIntegrator. The graph database Neo4j is accessed using specified credentials, and the resulting graph is visualized to provide a visual representation of the relationships and entities extracted from the document."
   ]
  },
  {
   "cell_type": "code",
   "execution_count": null,
   "metadata": {},
   "outputs": [],
   "source": [
    "from itext2kg.graph_integration import Neo4jStorage\n",
    "\n",
    "\n",
    "URI = \"bolt://localhost:7687\"\n",
    "USERNAME = \"neo4j\"\n",
    "PASSWORD = \"##\"\n",
    "\n",
    "Neo4jStorage(uri=URI, username=USERNAME, password=PASSWORD).visualize_graph(knowledge_graph=kg)"
   ]
  },
  {
   "cell_type": "markdown",
   "metadata": {},
   "source": [
    "# Retrieve the snapshots\n",
    "---"
   ]
  },
  {
   "cell_type": "markdown",
   "metadata": {},
   "source": [
    "The following modeling approach is designed to show the dynamism of a graph as new information is added, while ensuring consistency by grouping observations of the same fact.\n",
    "\n",
    "In this version, each relationship has a property, `observation_dates`, which is a list of Unix timestamps representing when the relationship was observed. If an incoming piece of information describes an identical relationship, its observation date is simply appended to the existing list. A snapshot for a specific date is therefore defined as the subgraph formed by all relationships that include a corresponding timestamp in their `observation_dates` list.\n",
    "\n",
    "* **Retrieving a Single-Day Snapshot:** To retrieve the snapshot for a specific day, for example, July 17, 2025 one can query for relationships where an observation date falls within that day's time range. (It is important to note that **this version does not handle conflict resolution**, such as starting and ending times for a fact's validity. Furthermore, the **Cypher query required for this model is not the most optimized one**.)\n",
    "\n",
    "    * **Lower Bound** (July 17, 2025 00:00:00): `1752703200`\n",
    "    * **Upper Bound** (July 17, 2025 23:59:59): `1752789599`\n",
    "\n",
    "* **Analyzing Graph Evolution:** To observe how the knowledge graph aggregates and evolves over a period, such as from June 18 to July 17, 2025, you can fix the lower bound and progressively increase the upper bound. This allows you to retrieve a series of cumulative snapshots that show how information changes over time."
   ]
  },
  {
   "cell_type": "code",
   "execution_count": 15,
   "metadata": {},
   "outputs": [
    {
     "name": "stdout",
     "output_type": "stream",
     "text": [
      "lower_bound_obj:  1752703200.0\n",
      "upper_bound_obj:  1752789599.0\n"
     ]
    }
   ],
   "source": [
    "from dateutil import parser\n",
    "\n",
    "lower_bound = \"17 july 2025 00:00:00\"\n",
    "upper_bound = \"17 july 2025 23:59:59\"\n",
    "\n",
    "lower_bound_obj = parser.parse(lower_bound).timestamp()\n",
    "upper_bound_obj = parser.parse(upper_bound).timestamp()\n",
    "\n",
    "print(\"lower_bound_obj: \", lower_bound_obj)\n",
    "print(\"upper_bound_obj: \", upper_bound_obj)"
   ]
  },
  {
   "cell_type": "markdown",
   "metadata": {},
   "source": [
    "WITH <put_here_the_lower_bound(unix)> AS lowerBound, <put_here_the_uppder_bound(unix)> AS upperBound\n",
    "MATCH (n)-[r]->(m)\n",
    "WHERE r.observation_dates IS NOT NULL\n",
    "WITH n,r,m,\n",
    "     r.observation_dates AS tsList,\n",
    "     lowerBound, upperBound\n",
    "WHERE size(tsList) > 0\n",
    "WITH n,r,m,\n",
    "     apoc.coll.min(tsList) AS minTs,\n",
    "     apoc.coll.max(tsList) AS maxTs,\n",
    "     lowerBound, upperBound\n",
    "WHERE minTs >= lowerBound\n",
    "  AND maxTs <= upperBound\n",
    "RETURN n,r,m"
   ]
  }
 ],
 "metadata": {
  "kernelspec": {
   "display_name": "venv-itext2kg-update",
   "language": "python",
   "name": "python3"
  },
  "language_info": {
   "codemirror_mode": {
    "name": "ipython",
    "version": 3
   },
   "file_extension": ".py",
   "mimetype": "text/x-python",
   "name": "python",
   "nbconvert_exporter": "python",
   "pygments_lexer": "ipython3",
   "version": "3.11.1"
  }
 },
 "nbformat": 4,
 "nbformat_minor": 2
}
